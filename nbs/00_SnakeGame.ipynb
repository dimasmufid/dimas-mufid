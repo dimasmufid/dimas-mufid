{
 "cells": [
  {
   "cell_type": "markdown",
   "metadata": {},
   "source": [
    "# JavaScript Project\n",
    "\n",
    "> Using Snake Game"
   ]
  },
  {
   "cell_type": "code",
   "execution_count": null,
   "metadata": {},
   "outputs": [],
   "source": [
    "#| default_exp dimas_mufid"
   ]
  },
  {
   "cell_type": "markdown",
   "metadata": {},
   "source": [
    "## What This Post is All About\n",
    "\n",
    "Everyone has their own reason, why they want to learning software engineering field. For me, because it is the prequisite for being Machine Learning Engineer. I inspired a lot from this [post](https://jasonbenn.com/how-i-went-from-finance-ai/how-i-learned-web-development-software-engineering-ml). If you want to be machine learning engineer, those post is a **must read**. \n",
    "\n",
    "One of the programming language that is needed in software engineering field which I am also lacking, is Javascript. I have learned Javascript from [CS50](https://cs50.harvard.edu/x/2023/), which I believe one of the best programming learning resource out there. \n",
    "\n",
    "For strengthen my understanding in using Javascript, absolutely it is not enough to just listening. We need to do directly interact with the language itself. If you are looking for the project to implement your Javascript language, probably building **Web Based Snake Game**, is a good choice.\n",
    "\n",
    "In this "
   ]
  },
  {
   "cell_type": "markdown",
   "metadata": {},
   "source": [
    "## Work Example\n",
    "\n",
    "This is [my work](https://dimasmufid.github.io/snake-game/).\n",
    "*(btw, sorry with the lack of good user interface, I decide to skip that part at the moment).*\n",
    "\n",
    "Personally, before I start to do that project, I strongly believe that it will become a fast project. Because, c'mon, it's just making a simple snake game. Probably it will be finishid at about 2-3 hours. But apparently, I wrong lol. Apparently, I need about 10 hours to build fron end to end. It's far harder than I thougth before. Moreover, it has cover a lot of feature of Javascript. Therefore, I can recommend those project if you are looking for Javascript project.\n",
    "\n",
    "## Tips\n",
    "\n",
    "### 1. Starting with pseudocode\n",
    "- Pseudocode is reforming step by step to solve the programming problem, using your own language.\n",
    "- With building pseudocode first, you will have already finished on how to solve the problem. The rest is just about how to translate the step into the programming language syntax.\n",
    "- Without building pseudocode, you force yourself to thinking about the step to solve problem, while also thinking about the syntax. It's very hard. Especially if you never have programming experience before.\n",
    "\n",
    "### 2. Small step is matters\n",
    "- After building the pseudocode, you will find how complex it is. Personally, I feel overwhelm with the the problem after building the pseudocode. But believe me, it is achievable. Just do every small step, and unconsciously the problem will solved unconsciously in every step. \n",
    "\n",
    "### 3. Ask chatGPT for your learning assistant\n",
    "- If you feel stuck, you can ask for chatGPT for your assistant, especially for the syntax.\n",
    "- But don't just copy paste the code from chatGPT. Remember, what you are doing is learning. Learning is the most matters, not the project. Therefore, if you are using chatGPT, please understand each of his code. If you can understand why chatGPT make a certain syntax, just ask him to explain it more detail. He will patiently explain it for you.\n",
    "\n",
    "That's all. I hope for your best in your learning journey. Goodluck!"
   ]
  },
  {
   "cell_type": "code",
   "execution_count": null,
   "metadata": {},
   "outputs": [],
   "source": [
    "#| hide\n",
    "import nbdev; nbdev.nbdev_export()"
   ]
  },
  {
   "cell_type": "code",
   "execution_count": null,
   "metadata": {},
   "outputs": [],
   "source": []
  }
 ],
 "metadata": {
  "kernelspec": {
   "display_name": "python3",
   "language": "python",
   "name": "python3"
  }
 },
 "nbformat": 4,
 "nbformat_minor": 4
}
