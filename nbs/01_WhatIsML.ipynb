{
 "cells": [
  {
   "cell_type": "code",
   "execution_count": null,
   "id": "ed88e4c6-89c1-4435-9cac-f9329737dbb5",
   "metadata": {},
   "outputs": [],
   "source": [
    "#| default_exp dimas_mufid"
   ]
  },
  {
   "cell_type": "markdown",
   "id": "23e6e146-6bb1-454c-af85-503517157900",
   "metadata": {},
   "source": [
    "# Introduction to Machine Learning\n",
    "> Unleashing the Power of Intelligent Algorithms"
   ]
  },
  {
   "cell_type": "code",
   "execution_count": null,
   "id": "51cdaab6-6f7f-451d-8ca8-a1dc9444aff8",
   "metadata": {},
   "outputs": [],
   "source": [
    "#| hide\n",
    "import nbdev; nbdev.nbdev_export()"
   ]
  },
  {
   "cell_type": "markdown",
   "id": "644c0b3d-8613-4531-934e-ee7fd5f8c912",
   "metadata": {},
   "source": [
    "Welcome to the fascinating world of machine learning! \n",
    "In today's digital era, where data is abundant and insights are crucial, machine learning has emerged as a revolutionary field. In this blog post, we'll dive into the fundamentals of machine learning. Hopefully after reading this post, you know enough on what is it. Therefore, you know well, when you need it for your business and organization, and vice versa.\n",
    "\n",
    "## What is Machine Learning?\n",
    "> Machine learning is the field of study that gives computers the ability to learn **without being explicitly programmed**. -- Arthur Samuel, 1959\n",
    "\n",
    "Machine learning is the subset of AI, that want to mimic how human brains works. Then what is Machine Learning? Just like the definition above, it is giving computer an ability to learn without being explicitly programmed. That is the point, that differentiate between traditional programming and Machine Learning.\n",
    "\n",
    "In traditional programming, to finished a certain task, we have to make every detail step to finished the work. Instead, using Machine Learning, we don't need to define every detail rule and step to finished the problem. \n",
    "\n",
    "Wait, that is to abstract. Here is the example. Imagine building email spam detector. \n",
    "- In traditional programming, we have to teach the program about the characteristic of spam email. For instance, one of the main factor that define a spam email is the email content. If it is contains of *for you*, *special offer*, *discount*, *credit card*, and so on, classify it to be spam. Otherwise, classify it as not spam.\n",
    "- On the other hand, in the same email spam detector case, we don't need to explicitly define the rule and the step to detect a spam email. Machine Learning will learn by itself, from every word, every timing, the intensity of the email, and any other factor that is likely to be a spam email.\n",
    "\n",
    "Sounds good to be true, isn't it?\n",
    "That is the reason, why Machine Learning become popular and has rapid development.\n",
    "The next question is, how Machine Learning really works?\n",
    "\n",
    "## How Machine Learning Works?\n",
    "### Comparison with traditional programming\n",
    "\n",
    "**Using traditional programming**\n",
    "- We will directly give set of rules that the computers can implement.\n",
    "![Traditional Programming Process](assets/traditional_map.png)\n",
    "\n",
    "**Using Machine Learning**\n",
    "- We feed it by using historical data, that consist of historical problem and the correct result.\n",
    "- The machine will define the rule by itself, or we usually called it by models.\n",
    "- Those models will be implement to future problem.\n",
    "![Machine Learning Process](assets/ml_map.png)\n",
    "\n",
    "### Example\n",
    "For example, we want to build a software that can identify between cat and chicken.\n",
    "\n",
    "**Using traditional programming**\n",
    "We have to give the computers the rule of how to identify cat and chicken.\n",
    "1. Count the foot. If it has 2 foot, then it is chicken. Else, it is a cat.\n",
    "2. Count the ears. If it has 2 ears, then it is cat. Else, it is chicken.\n",
    "We also have to make a rule fot the fur, eyes, wing, and any other.\n",
    "And what if the photo is taken from the front, that look like it has 2 ears, but it has 2 foot? We also have to make a rule to anticipate every possible error.\n",
    "That is the pain of using traditional programming in solving those case. For develop those kind of software, it will needs a lot line of codes.\n",
    "\n",
    "**Using Machine Learning**\n",
    "\n",
    "We will need historical data. In this case, we need many photo of cat and chicken, follow with the answer for each photo (or in machine learning we called it as label). Just like we teach a child to identify between cat and chicken, instead of giving a set of rules, it is easier to directly show the cat and the chicken. This is cat. This is chicken. The more example that we give to him, the more accurate they skill in identify between cat and chicken.\n",
    "The long of code in traditional programming, will be shorten in few lines of code using machine learning. Moreover, the more important is, the more accurate and less error it can produce.\n",
    "\n",
    "There is another question, how Machine Learning could do that? How it can learn from historical data? This is a question that will need another long explanation. I will try to help to answer it in another opportunity.\n",
    "\n",
    "\n",
    "## When we should use Machine Learning?\n",
    "There are [3 conditions](https://www.oreilly.com/library/view/hands-on-machine-learning/9781492032632/) when we should use Machine Learning, instead of traditional programming?\n",
    "\n",
    "1. **Problem problem which using traditional approach will need very long lists of rules.** For instance, building a chat bot. It is impossible to define code that anticipate every random typing each persons. Machine Learning can help to understand to solve it.\n",
    "1. **Fluctuating environments.** For instance, email spam detector. When email contain *for you* is detected as spam, they will change it into *4you*, *4u*, or any unlimited possibility to change it. Machine Learning having ability to automatically update their model, by giving the newest data incrementally.\n",
    "1. **Getting insights about complex problems in large amounts of data.** To analyze, for example identify buying pattern, classifying customer, or any other task, it is very difficult and need a lot of time if the data is too big. But using machine learning, it will significantly help us to get the pattern of those big data.\n",
    "\n",
    "### Reference\n",
    "\n",
    "- [What is Machine Learning](https://www.youtube.com/watch?v=Z_ikDlimN6A&t=4923s)\n",
    "- [Machine Learning Course from Fast.ai](https://course.fast.ai/)\n",
    "- [Hands-On Machine Learning with Scikit-Learn, Keras, and TensorFlow, 2nd Edition, by Aurélien Géron](https://www.oreilly.com/library/view/hands-on-machine-learning/9781492032632/)"
   ]
  },
  {
   "cell_type": "code",
   "execution_count": null,
   "id": "adf81d40-04ce-465f-b820-8b01ba9827c2",
   "metadata": {},
   "outputs": [],
   "source": [
    "#| hide\n",
    "import nbdev; nbdev.nbdev_export()"
   ]
  },
  {
   "cell_type": "code",
   "execution_count": null,
   "id": "c0ec6ac4-e8ee-4fea-bef0-443d9265738a",
   "metadata": {},
   "outputs": [],
   "source": []
  }
 ],
 "metadata": {
  "kernelspec": {
   "display_name": "python3",
   "language": "python",
   "name": "python3"
  }
 },
 "nbformat": 4,
 "nbformat_minor": 5
}
