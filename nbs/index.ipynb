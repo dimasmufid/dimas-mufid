{
 "cells": [
  {
   "cell_type": "code",
   "execution_count": null,
   "metadata": {},
   "outputs": [],
   "source": [
    "#| hide\n",
    "from dimas_mufid.core import *"
   ]
  },
  {
   "cell_type": "markdown",
   "metadata": {},
   "source": [
    "# Welcome to Mufid Blog.\n",
    "> Unleash the Power of Machine Learning with Mufid"
   ]
  },
  {
   "cell_type": "markdown",
   "metadata": {},
   "source": [
    "![Blog Banner](assets/kevin-ku-w7ZyuGYNpRQ-unsplash.jpg)\n",
    "\n",
    "Greetings and welcome to Mufid Blog! I'm Mufid, a passionate data scientist at a leading consultancy firm in Indonesia. With a deep love for machine learning, I have dedicated the past two years to honing my skills and knowledge in this fascinating field. This blog serves as a platform for me to share my learning journey with you and provide valuable insights and resources to assist you in your own machine learning endeavors.\n",
    "\n",
    "## Join me on a Journey of Learning and Discovery\n",
    "\n",
    "Through this blog, I aim to demystify the complexities of machine learning and make it accessible to learners at all levels. Whether you are just starting out or already have some experience in the field, you'll find a wealth of information and practical guidance here. I will cover a wide range of topics, including fundamental concepts, algorithms, real-world applications, best practices, and the latest advancements in machine learning.\n",
    "\n",
    "## Connect and Collaborate\n",
    "\n",
    "I value your input and welcome your suggestions, questions, and ideas. If you have any business inquiries or would like to collaborate on a project, feel free to reach out to me at dimasmufid.data@gmail.com. I'm excited to connect with like-minded individuals, industry professionals, and fellow learners who share a passion for machine learning.\n",
    "\n",
    "## Let's Start Exploring!\n",
    "\n",
    "Now that you're here, take a moment to browse through the various categories and articles on the blog. Whether you're looking to grasp the basics, dive into advanced techniques, or discover practical applications, you'll find a wealth of knowledge to empower your machine learning journey.\n",
    "\n",
    "Thank you for visiting Mufid Blog. I hope this blog becomes a valuable resource for your machine learning education and inspires you to push the boundaries of what's possible with intelligent algorithms. Together, let's unlock the transformative potential of machine learning!"
   ]
  },
  {
   "cell_type": "code",
   "execution_count": null,
   "metadata": {},
   "outputs": [],
   "source": [
    "#| default_exp dimas_mufid"
   ]
  },
  {
   "cell_type": "code",
   "execution_count": null,
   "metadata": {},
   "outputs": [],
   "source": [
    "#| hide\n",
    "from nbdev.showdoc import *"
   ]
  },
  {
   "cell_type": "code",
   "execution_count": null,
   "metadata": {},
   "outputs": [],
   "source": [
    "#| hide\n",
    "import nbdev; nbdev.nbdev_export()"
   ]
  }
 ],
 "metadata": {
  "kernelspec": {
   "display_name": "python3",
   "language": "python",
   "name": "python3"
  }
 },
 "nbformat": 4,
 "nbformat_minor": 4
}
